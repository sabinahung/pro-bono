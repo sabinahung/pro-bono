{
 "cells": [
  {
   "cell_type": "markdown",
   "metadata": {},
   "source": [
    "## Imports and files"
   ]
  },
  {
   "cell_type": "code",
   "execution_count": 1,
   "metadata": {},
   "outputs": [],
   "source": [
    "%load_ext rpy2.ipython\n",
    "%load_ext autoreload\n",
    "%autoreload 2\n",
    "\n",
    "%matplotlib inline  \n",
    "from matplotlib import rcParams\n",
    "rcParams['figure.figsize'] = (16, 100)\n",
    "\n",
    "import warnings\n",
    "from rpy2.rinterface import RRuntimeWarning\n",
    "warnings.filterwarnings(\"ignore\") # Ignore all warnings\n",
    "# warnings.filterwarnings(\"ignore\", category=RRuntimeWarning) # Show some warnings\n",
    "\n",
    "import pandas as pd\n",
    "import numpy as np\n",
    "import matplotlib.pyplot as plt\n",
    "from IPython.display import display, HTML"
   ]
  },
  {
   "cell_type": "code",
   "execution_count": 2,
   "metadata": {},
   "outputs": [
    {
     "data": {
      "application/javascript": "// Disable auto-scrolling\nIPython.OutputArea.prototype._should_scroll = function(lines) {\n    return false;\n}\n",
      "text/plain": [
       "<IPython.core.display.Javascript object>"
      ]
     },
     "metadata": {},
     "output_type": "display_data"
    }
   ],
   "source": [
    "%%javascript\n",
    "// Disable auto-scrolling\n",
    "IPython.OutputArea.prototype._should_scroll = function(lines) {\n",
    "    return false;\n",
    "}"
   ]
  },
  {
   "cell_type": "code",
   "execution_count": 3,
   "metadata": {},
   "outputs": [
    {
     "name": "stdout",
     "output_type": "stream",
     "text": [
      "── Attaching core tidyverse packages ──────────────────────── tidyverse 2.0.0 ──\n",
      "✔ dplyr     1.1.4     ✔ readr     2.1.5\n",
      "✔ forcats   1.0.0     ✔ stringr   1.5.1\n",
      "✔ ggplot2   3.5.0     ✔ tibble    3.2.1\n",
      "✔ lubridate 1.9.3     ✔ tidyr     1.3.0\n",
      "✔ purrr     1.0.2     \n",
      "── Conflicts ────────────────────────────────────────── tidyverse_conflicts() ──\n",
      "✖ dplyr::filter() masks stats::filter()\n",
      "✖ dplyr::lag()    masks stats::lag()\n",
      "ℹ Use the conflicted package (<http://conflicted.r-lib.org/>) to force all conflicts to become errors\n"
     ]
    },
    {
     "data": {
      "text/plain": [
       "Loading required package: flexplot\n",
       "Loading required package: tidyverse\n",
       "In addition: Warning message:\n",
       "In library(package, lib.loc = lib.loc, character.only = TRUE, logical.return = TRUE,  :\n",
       "  there is no package called ‘flexplot’\n"
      ]
     },
     "metadata": {},
     "output_type": "display_data"
    }
   ],
   "source": [
    "%%R\n",
    "\n",
    "require('flexplot')\n",
    "require('tidyverse')\n",
    "library(ggrepel)\n",
    "library(ggcorrplot)"
   ]
  },
  {
   "cell_type": "code",
   "execution_count": 4,
   "metadata": {},
   "outputs": [
    {
     "name": "stdout",
     "output_type": "stream",
     "text": [
      "Rows: 119 Columns: 30\n",
      "── Column specification ────────────────────────────────────────────────────────\n",
      "Delimiter: \",\"\n",
      "chr  (1): firm\n",
      "dbl (29): report_year, probono_rank_24, amlaw_rank_24, probono_score_24, avg...\n",
      "\n",
      "ℹ Use `spec()` to retrieve the full column specification for this data.\n",
      "ℹ Specify the column types or set `show_col_types = FALSE` to quiet this message.\n"
     ]
    }
   ],
   "source": [
    "%%R -o df\n",
    "df <- read_csv('master.csv')"
   ]
  },
  {
   "cell_type": "code",
   "execution_count": 5,
   "metadata": {},
   "outputs": [],
   "source": [
    "df = pd.read_csv('master.csv')"
   ]
  },
  {
   "cell_type": "code",
   "execution_count": 6,
   "metadata": {},
   "outputs": [],
   "source": [
    "# show all df columns\n",
    "pd.set_option('display.max_columns', None)"
   ]
  },
  {
   "cell_type": "markdown",
   "metadata": {},
   "source": [
    "## Data overview"
   ]
  },
  {
   "cell_type": "code",
   "execution_count": 7,
   "metadata": {},
   "outputs": [
    {
     "data": {
      "text/html": [
       "<div>\n",
       "<style scoped>\n",
       "    .dataframe tbody tr th:only-of-type {\n",
       "        vertical-align: middle;\n",
       "    }\n",
       "\n",
       "    .dataframe tbody tr th {\n",
       "        vertical-align: top;\n",
       "    }\n",
       "\n",
       "    .dataframe thead th {\n",
       "        text-align: right;\n",
       "    }\n",
       "</style>\n",
       "<table border=\"1\" class=\"dataframe\">\n",
       "  <thead>\n",
       "    <tr style=\"text-align: right;\">\n",
       "      <th></th>\n",
       "      <th>firm</th>\n",
       "      <th>report_year</th>\n",
       "      <th>probono_rank_24</th>\n",
       "      <th>amlaw_rank_24</th>\n",
       "      <th>probono_score_24</th>\n",
       "      <th>avg_hrs_24</th>\n",
       "      <th>pct_20ormore_hrs_24</th>\n",
       "      <th>diversity_score_24</th>\n",
       "      <th>firm_leadership_24</th>\n",
       "      <th>talent_management_24</th>\n",
       "      <th>equity_partder_distribution_24</th>\n",
       "      <th>other_attroney_dist_24</th>\n",
       "      <th>pct_attorney_racial_24</th>\n",
       "      <th>pct_equity_partner_racial_24</th>\n",
       "      <th>pct_executive_committee_racial_24</th>\n",
       "      <th>pct_women_attorney</th>\n",
       "      <th>pct_women_partner</th>\n",
       "      <th>pct_women_equity</th>\n",
       "      <th>pct_women_nonequity</th>\n",
       "      <th>pct_women_associates</th>\n",
       "      <th>pct_women_other_attorneys</th>\n",
       "      <th>num_lawyer_23</th>\n",
       "      <th>gr_23</th>\n",
       "      <th>gr_pct_gorwth_23</th>\n",
       "      <th>rpl_23</th>\n",
       "      <th>rpl_pct_growth_23</th>\n",
       "      <th>pep_23</th>\n",
       "      <th>pep_pct_growth_23</th>\n",
       "      <th>profit_margin_23</th>\n",
       "      <th>leverage_23</th>\n",
       "    </tr>\n",
       "  </thead>\n",
       "  <tbody>\n",
       "    <tr>\n",
       "      <th>0</th>\n",
       "      <td>Kirkland &amp; Ellis</td>\n",
       "      <td>2024</td>\n",
       "      <td>68</td>\n",
       "      <td>1</td>\n",
       "      <td>46.0</td>\n",
       "      <td>37.0</td>\n",
       "      <td>54.9</td>\n",
       "      <td>88.74</td>\n",
       "      <td>34.86</td>\n",
       "      <td>13.75</td>\n",
       "      <td>24.92</td>\n",
       "      <td>15.21</td>\n",
       "      <td>25.11</td>\n",
       "      <td>16.84</td>\n",
       "      <td>5.00</td>\n",
       "      <td>39.4</td>\n",
       "      <td>32.1</td>\n",
       "      <td>22.0</td>\n",
       "      <td>0.0</td>\n",
       "      <td>44.9</td>\n",
       "      <td>0.0</td>\n",
       "      <td>3514</td>\n",
       "      <td>7208000000</td>\n",
       "      <td>10.65</td>\n",
       "      <td>2051000</td>\n",
       "      <td>7.49</td>\n",
       "      <td>7955000</td>\n",
       "      <td>5.84</td>\n",
       "      <td>59</td>\n",
       "      <td>6</td>\n",
       "    </tr>\n",
       "    <tr>\n",
       "      <th>1</th>\n",
       "      <td>Latham &amp; Watkins</td>\n",
       "      <td>2024</td>\n",
       "      <td>16</td>\n",
       "      <td>2</td>\n",
       "      <td>82.5</td>\n",
       "      <td>90.2</td>\n",
       "      <td>74.8</td>\n",
       "      <td>67.68</td>\n",
       "      <td>12.11</td>\n",
       "      <td>12.35</td>\n",
       "      <td>26.02</td>\n",
       "      <td>17.20</td>\n",
       "      <td>30.29</td>\n",
       "      <td>13.92</td>\n",
       "      <td>33.33</td>\n",
       "      <td>42.7</td>\n",
       "      <td>26.5</td>\n",
       "      <td>21.0</td>\n",
       "      <td>34.6</td>\n",
       "      <td>49.5</td>\n",
       "      <td>39.2</td>\n",
       "      <td>3450</td>\n",
       "      <td>5688226000</td>\n",
       "      <td>6.90</td>\n",
       "      <td>1649000</td>\n",
       "      <td>2.17</td>\n",
       "      <td>5516000</td>\n",
       "      <td>7.02</td>\n",
       "      <td>53</td>\n",
       "      <td>5</td>\n",
       "    </tr>\n",
       "    <tr>\n",
       "      <th>2</th>\n",
       "      <td>DLA Piper</td>\n",
       "      <td>2024</td>\n",
       "      <td>29</td>\n",
       "      <td>3</td>\n",
       "      <td>66.5</td>\n",
       "      <td>62.4</td>\n",
       "      <td>70.5</td>\n",
       "      <td>89.56</td>\n",
       "      <td>11.97</td>\n",
       "      <td>18.05</td>\n",
       "      <td>35.52</td>\n",
       "      <td>24.02</td>\n",
       "      <td>23.69</td>\n",
       "      <td>11.63</td>\n",
       "      <td>22.22</td>\n",
       "      <td>42.8</td>\n",
       "      <td>25.9</td>\n",
       "      <td>12.3</td>\n",
       "      <td>30.4</td>\n",
       "      <td>51.0</td>\n",
       "      <td>40.8</td>\n",
       "      <td>4561</td>\n",
       "      <td>3829531000</td>\n",
       "      <td>3.92</td>\n",
       "      <td>840000</td>\n",
       "      <td>-3.00</td>\n",
       "      <td>3122000</td>\n",
       "      <td>8.48</td>\n",
       "      <td>27</td>\n",
       "      <td>13</td>\n",
       "    </tr>\n",
       "    <tr>\n",
       "      <th>3</th>\n",
       "      <td>Skadden, Arps, Slate, Meagher &amp; Flom</td>\n",
       "      <td>2024</td>\n",
       "      <td>11</td>\n",
       "      <td>5</td>\n",
       "      <td>89.4</td>\n",
       "      <td>114.7</td>\n",
       "      <td>64.0</td>\n",
       "      <td>61.89</td>\n",
       "      <td>16.59</td>\n",
       "      <td>9.50</td>\n",
       "      <td>21.92</td>\n",
       "      <td>13.88</td>\n",
       "      <td>29.26</td>\n",
       "      <td>15.16</td>\n",
       "      <td>15.00</td>\n",
       "      <td>40.5</td>\n",
       "      <td>23.5</td>\n",
       "      <td>23.5</td>\n",
       "      <td>0.0</td>\n",
       "      <td>46.4</td>\n",
       "      <td>36.6</td>\n",
       "      <td>1734</td>\n",
       "      <td>3270091000</td>\n",
       "      <td>8.25</td>\n",
       "      <td>1886000</td>\n",
       "      <td>3.74</td>\n",
       "      <td>5403000</td>\n",
       "      <td>7.78</td>\n",
       "      <td>55</td>\n",
       "      <td>4</td>\n",
       "    </tr>\n",
       "    <tr>\n",
       "      <th>4</th>\n",
       "      <td>Sidley Austin</td>\n",
       "      <td>2024</td>\n",
       "      <td>33</td>\n",
       "      <td>6</td>\n",
       "      <td>64.0</td>\n",
       "      <td>74.6</td>\n",
       "      <td>53.4</td>\n",
       "      <td>79.95</td>\n",
       "      <td>17.92</td>\n",
       "      <td>11.20</td>\n",
       "      <td>29.78</td>\n",
       "      <td>21.06</td>\n",
       "      <td>25.60</td>\n",
       "      <td>12.44</td>\n",
       "      <td>20.69</td>\n",
       "      <td>42.2</td>\n",
       "      <td>29.1</td>\n",
       "      <td>22.9</td>\n",
       "      <td>33.1</td>\n",
       "      <td>49.7</td>\n",
       "      <td>41.0</td>\n",
       "      <td>2042</td>\n",
       "      <td>3100458000</td>\n",
       "      <td>6.08</td>\n",
       "      <td>1518000</td>\n",
       "      <td>4.69</td>\n",
       "      <td>4592000</td>\n",
       "      <td>10.25</td>\n",
       "      <td>39</td>\n",
       "      <td>7</td>\n",
       "    </tr>\n",
       "  </tbody>\n",
       "</table>\n",
       "</div>"
      ],
      "text/plain": [
       "                                   firm  report_year  probono_rank_24  \\\n",
       "0                      Kirkland & Ellis         2024               68   \n",
       "1                      Latham & Watkins         2024               16   \n",
       "2                             DLA Piper         2024               29   \n",
       "3  Skadden, Arps, Slate, Meagher & Flom         2024               11   \n",
       "4                         Sidley Austin         2024               33   \n",
       "\n",
       "   amlaw_rank_24  probono_score_24  avg_hrs_24  pct_20ormore_hrs_24  \\\n",
       "0              1              46.0        37.0                 54.9   \n",
       "1              2              82.5        90.2                 74.8   \n",
       "2              3              66.5        62.4                 70.5   \n",
       "3              5              89.4       114.7                 64.0   \n",
       "4              6              64.0        74.6                 53.4   \n",
       "\n",
       "   diversity_score_24  firm_leadership_24  talent_management_24  \\\n",
       "0               88.74               34.86                 13.75   \n",
       "1               67.68               12.11                 12.35   \n",
       "2               89.56               11.97                 18.05   \n",
       "3               61.89               16.59                  9.50   \n",
       "4               79.95               17.92                 11.20   \n",
       "\n",
       "   equity_partder_distribution_24  other_attroney_dist_24  \\\n",
       "0                           24.92                   15.21   \n",
       "1                           26.02                   17.20   \n",
       "2                           35.52                   24.02   \n",
       "3                           21.92                   13.88   \n",
       "4                           29.78                   21.06   \n",
       "\n",
       "   pct_attorney_racial_24  pct_equity_partner_racial_24  \\\n",
       "0                   25.11                         16.84   \n",
       "1                   30.29                         13.92   \n",
       "2                   23.69                         11.63   \n",
       "3                   29.26                         15.16   \n",
       "4                   25.60                         12.44   \n",
       "\n",
       "   pct_executive_committee_racial_24  pct_women_attorney  pct_women_partner  \\\n",
       "0                               5.00                39.4               32.1   \n",
       "1                              33.33                42.7               26.5   \n",
       "2                              22.22                42.8               25.9   \n",
       "3                              15.00                40.5               23.5   \n",
       "4                              20.69                42.2               29.1   \n",
       "\n",
       "   pct_women_equity  pct_women_nonequity  pct_women_associates  \\\n",
       "0              22.0                  0.0                  44.9   \n",
       "1              21.0                 34.6                  49.5   \n",
       "2              12.3                 30.4                  51.0   \n",
       "3              23.5                  0.0                  46.4   \n",
       "4              22.9                 33.1                  49.7   \n",
       "\n",
       "   pct_women_other_attorneys  num_lawyer_23       gr_23  gr_pct_gorwth_23  \\\n",
       "0                        0.0           3514  7208000000             10.65   \n",
       "1                       39.2           3450  5688226000              6.90   \n",
       "2                       40.8           4561  3829531000              3.92   \n",
       "3                       36.6           1734  3270091000              8.25   \n",
       "4                       41.0           2042  3100458000              6.08   \n",
       "\n",
       "    rpl_23  rpl_pct_growth_23   pep_23  pep_pct_growth_23  profit_margin_23  \\\n",
       "0  2051000               7.49  7955000               5.84                59   \n",
       "1  1649000               2.17  5516000               7.02                53   \n",
       "2   840000              -3.00  3122000               8.48                27   \n",
       "3  1886000               3.74  5403000               7.78                55   \n",
       "4  1518000               4.69  4592000              10.25                39   \n",
       "\n",
       "   leverage_23  \n",
       "0            6  \n",
       "1            5  \n",
       "2           13  \n",
       "3            4  \n",
       "4            7  "
      ]
     },
     "execution_count": 7,
     "metadata": {},
     "output_type": "execute_result"
    }
   ],
   "source": [
    "df.head()"
   ]
  },
  {
   "cell_type": "code",
   "execution_count": 8,
   "metadata": {},
   "outputs": [
    {
     "data": {
      "text/plain": [
       "count    119.000000\n",
       "mean      49.728571\n",
       "std       22.455980\n",
       "min        8.600000\n",
       "25%       33.800000\n",
       "50%       47.200000\n",
       "75%       63.850000\n",
       "max      122.000000\n",
       "Name: pct_20ormore_hrs_24, dtype: float64"
      ]
     },
     "execution_count": 8,
     "metadata": {},
     "output_type": "execute_result"
    }
   ],
   "source": [
    "df.pct_20ormore_hrs_24.describe()"
   ]
  },
  {
   "cell_type": "code",
   "execution_count": 9,
   "metadata": {},
   "outputs": [
    {
     "data": {
      "text/plain": [
       "firm                                  object\n",
       "report_year                            int64\n",
       "probono_rank_24                        int64\n",
       "amlaw_rank_24                          int64\n",
       "probono_score_24                     float64\n",
       "avg_hrs_24                           float64\n",
       "pct_20ormore_hrs_24                  float64\n",
       "diversity_score_24                   float64\n",
       "firm_leadership_24                   float64\n",
       "talent_management_24                 float64\n",
       "equity_partder_distribution_24       float64\n",
       "other_attroney_dist_24               float64\n",
       "pct_attorney_racial_24               float64\n",
       "pct_equity_partner_racial_24         float64\n",
       "pct_executive_committee_racial_24    float64\n",
       "pct_women_attorney                   float64\n",
       "pct_women_partner                    float64\n",
       "pct_women_equity                     float64\n",
       "pct_women_nonequity                  float64\n",
       "pct_women_associates                 float64\n",
       "pct_women_other_attorneys            float64\n",
       "num_lawyer_23                          int64\n",
       "gr_23                                  int64\n",
       "gr_pct_gorwth_23                     float64\n",
       "rpl_23                                 int64\n",
       "rpl_pct_growth_23                    float64\n",
       "pep_23                                 int64\n",
       "pep_pct_growth_23                    float64\n",
       "profit_margin_23                       int64\n",
       "leverage_23                            int64\n",
       "dtype: object"
      ]
     },
     "execution_count": 9,
     "metadata": {},
     "output_type": "execute_result"
    }
   ],
   "source": [
    "df.dtypes"
   ]
  },
  {
   "cell_type": "markdown",
   "metadata": {},
   "source": [
    "## Model testing"
   ]
  },
  {
   "cell_type": "code",
   "execution_count": 22,
   "metadata": {},
   "outputs": [
    {
     "name": "stdout",
     "output_type": "stream",
     "text": [
      "\n",
      "Call:\n",
      "lm(formula = pct_20ormore_hrs_24 ~ num_lawyer_23 + pct_women_attorney + \n",
      "    profit_margin_23, data = df)\n",
      "\n",
      "Residuals:\n",
      "    Min      1Q  Median      3Q     Max \n",
      "-42.826 -13.891  -2.916  13.912  57.300 \n",
      "\n",
      "Coefficients:\n",
      "                    Estimate Std. Error t value Pr(>|t|)   \n",
      "(Intercept)         7.510436  15.132665   0.496  0.62063   \n",
      "num_lawyer_23       0.004851   0.002813   1.725  0.08727 . \n",
      "pct_women_attorney  0.392503   0.333330   1.178  0.24142   \n",
      "profit_margin_23    0.584049   0.190751   3.062  0.00274 **\n",
      "---\n",
      "Signif. codes:  0 ‘***’ 0.001 ‘**’ 0.01 ‘*’ 0.05 ‘.’ 0.1 ‘ ’ 1\n",
      "\n",
      "Residual standard error: 21.23 on 115 degrees of freedom\n",
      "Multiple R-squared:  0.129,\tAdjusted R-squared:  0.1063 \n",
      "F-statistic: 5.678 on 3 and 115 DF,  p-value: 0.00116\n",
      "\n"
     ]
    }
   ],
   "source": [
    "%%R -i df\n",
    "\n",
    "model <- lm(pct_20ormore_hrs_24 ~ num_lawyer_23 + pct_women_attorney + profit_margin_23, data = df)\n",
    "model_summary <- summary(model)\n",
    "model_summary"
   ]
  },
  {
   "cell_type": "code",
   "execution_count": 25,
   "metadata": {},
   "outputs": [
    {
     "name": "stdout",
     "output_type": "stream",
     "text": [
      "\n",
      "Call:\n",
      "lm(formula = avg_hrs_24 ~ num_lawyer_23 + pct_women_attorney + \n",
      "    profit_margin_23, data = df)\n",
      "\n",
      "Residuals:\n",
      "    Min      1Q  Median      3Q     Max \n",
      "-53.232 -18.743  -2.785  12.710 103.784 \n",
      "\n",
      "Coefficients:\n",
      "                     Estimate"
     ]
    },
    {
     "name": "stdout",
     "output_type": "stream",
     "text": [
      " Std. Error t value Pr(>|t|)    \n",
      "(Intercept)        -3.675e+01  2.119e+01  -1.734   0.0856 .  \n",
      "num_lawyer_23       5.303e-04  3.939e-03   0.135   0.8931    \n",
      "pct_women_attorney  9.842e-01  4.668e-01   2.108   0.0372 *  \n",
      "profit_margin_23    1.347e+00  2.671e-01   5.044 1.72e-06 ***\n",
      "---\n",
      "Signif. codes:  0 ‘***’ 0.001 ‘**’ 0.01 ‘*’ 0.05 ‘.’ 0.1 ‘ ’ 1\n",
      "\n",
      "Residual standard error: 29.73 on 115 degrees of freedom\n",
      "Multiple R-squared:  0.2101,\tAdjusted R-squared:  0.1895 \n",
      "F-statistic: 10.19 on 3 and 115 DF,  p-value: 5.262e-06\n",
      "\n"
     ]
    }
   ],
   "source": [
    "%%R \n",
    "\n",
    "model <- lm(avg_hrs_24 ~ num_lawyer_23 + pct_women_attorney + profit_margin_23, data = df)\n",
    "model_summary <- summary(model)\n",
    "model_summary"
   ]
  }
 ],
 "metadata": {
  "kernelspec": {
   "display_name": "Python 3",
   "language": "python",
   "name": "python3"
  },
  "language_info": {
   "codemirror_mode": {
    "name": "ipython",
    "version": 3
   },
   "file_extension": ".py",
   "mimetype": "text/x-python",
   "name": "python",
   "nbconvert_exporter": "python",
   "pygments_lexer": "ipython3",
   "version": "3.11.7"
  }
 },
 "nbformat": 4,
 "nbformat_minor": 2
}
